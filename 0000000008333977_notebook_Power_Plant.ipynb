{
 "cells": [
  {
   "cell_type": "code",
   "execution_count": 3,
   "metadata": {},
   "outputs": [],
   "source": [
    "import numpy as np"
   ]
  },
  {
   "cell_type": "code",
   "execution_count": null,
   "metadata": {},
   "outputs": [],
   "source": []
  },
  {
   "cell_type": "code",
   "execution_count": 4,
   "metadata": {},
   "outputs": [],
   "source": [
    "def step_grad(x_train,y_train,learning_rate,m):\n",
    "    N,M = data_train.shape \n",
    "    # just a test\n",
    "    m_slope = np.zeros(M)\n",
    "    for i in range(N):\n",
    "        y = y_train[i]\n",
    "        x = 0\n",
    "        for k in range(M):\n",
    "            x = x + (m[k] * x_train[i][k])\n",
    "        for j in range(M):\n",
    "            m_slope[j] += (-2/N) * (y - x)*x_train[i][j]\n",
    "            m[j] = m[j] - (learning_rate * m_slope[j])\n",
    "            \n",
    "    #for i in range(M):\n",
    "        #m[i] = m[i] - (learning_rate * m_slope[i])\n",
    "    return m"
   ]
  },
  {
   "cell_type": "code",
   "execution_count": null,
   "metadata": {},
   "outputs": [],
   "source": []
  },
  {
   "cell_type": "code",
   "execution_count": 5,
   "metadata": {},
   "outputs": [],
   "source": [
    "def cost(x_train,y_train,m):\n",
    "    N,M = x_train.shape\n",
    "    cost = 0 \n",
    "    for i in range(N):\n",
    "        y = y_train[i]\n",
    "        x=0\n",
    "        for k in range(M):\n",
    "            x = x + m[k] * x_train[i][k]\n",
    "        cost += (1/N)*(y -x)**2\n",
    "    return cost"
   ]
  },
  {
   "cell_type": "code",
   "execution_count": null,
   "metadata": {},
   "outputs": [],
   "source": []
  },
  {
   "cell_type": "code",
   "execution_count": 6,
   "metadata": {},
   "outputs": [],
   "source": [
    "def gd(x_train,y_train,learning_rate,no_iterations):\n",
    "    N,M = x_train.shape\n",
    "    m = np.zeros(M)\n",
    "    for i in range(no_iterations):\n",
    "        m = step_grad(x_train,y_train,learning_rate,m)\n",
    "        print(\"Cost \", i , cost(x_train,y_train,m));\n",
    "    return m"
   ]
  },
  {
   "cell_type": "code",
   "execution_count": null,
   "metadata": {},
   "outputs": [],
   "source": []
  },
  {
   "cell_type": "code",
   "execution_count": 12,
   "metadata": {},
   "outputs": [
    {
     "name": "stdout",
     "output_type": "stream",
     "text": [
      "Cost  0 142369.86136087036\n",
      "Cost  1 98063.19540699197\n",
      "Cost  2 66518.58746310427\n",
      "Cost  3 46389.92263840092\n",
      "Cost  4 31192.858387119184\n",
      "Cost  5 22027.805544141967\n",
      "Cost  6 14606.907110140024\n",
      "Cost  7 10508.965559613162\n",
      "Cost  8 6819.54864417669\n",
      "Cost  9 5048.152332324257\n",
      "Cost  10 3170.64799283252\n",
      "Cost  11 2451.0881654061627\n",
      "Cost  12 1467.1012779305258\n",
      "Cost  13 1210.4890501109808\n",
      "Cost  14 676.350321661954\n",
      "Cost  15 614.0716721335245\n",
      "Cost  16 312.5966451856537\n",
      "Cost  17 324.72094903888683\n",
      "Cost  18 147.63595685675594\n",
      "Cost  19 182.54494262086982\n",
      "Cost  20 74.54068614026883\n",
      "Cost  21 111.46930893176331\n",
      "Cost  22 43.406785422235\n",
      "Cost  23 75.1301719979332\n",
      "Cost  24 31.086111316626372\n",
      "Cost  25 56.02668942795671\n",
      "Cost  26 26.94356626001817\n",
      "Cost  27 45.653465830741176\n",
      "Cost  28 26.166444774909685\n",
      "Cost  29 39.81985798009865\n",
      "Cost  30 26.629931571846434\n",
      "Cost  31 36.42237243107319\n",
      "Cost  32 27.434764455269775\n",
      "Cost  33 34.37929614190314\n",
      "Cost  34 28.229443373399526\n",
      "Cost  35 33.117480251255856\n",
      "Cost  36 28.899264593181538\n",
      "Cost  37 32.32252686090377\n",
      "Cost  38 29.42594951459724\n",
      "Cost  39 31.815405456238445\n",
      "Cost  40 29.825946176509472\n",
      "Cost  41 31.490299008171192\n",
      "Cost  42 30.12453354224376\n",
      "Cost  43 31.28248302420963\n",
      "Cost  44 30.34587285750174\n",
      "Cost  45 31.15119611872989\n",
      "Cost  46 30.509909170264073\n",
      "Cost  47 31.070169615611107\n",
      "Cost  48 30.632027237979592\n",
      "Cost  49 31.02218613396169\n",
      "Cost  50 30.72367014934886\n",
      "Cost  51 30.995832210529603\n",
      "Cost  52 30.793175575360017\n",
      "Cost  53 30.983492147921407\n",
      "Cost  54 30.84654909126797\n",
      "Cost  55 30.98007187551575\n",
      "Cost  56 30.888092214459746\n",
      "Cost  57 30.982168140619304\n",
      "Cost  58 30.92088140554627\n",
      "Cost  59 30.987518160450126\n",
      "Cost  60 30.947120814856238\n",
      "Cost  61 30.994630544119428\n",
      "Cost  62 30.968396647736604\n",
      "Cost  63 31.002535732636336\n",
      "Cost  64 30.985858214984038\n",
      "Cost  65 31.01061639530417\n",
      "Cost  66 31.00034576883915\n",
      "Cost  67 31.018491861345044\n",
      "Cost  68 31.012480342933703\n",
      "Cost  69 31.02593931669056\n",
      "Cost  70 31.022726747747885\n",
      "Cost  71 31.032840120337827\n",
      "Cost  72 31.03143772708809\n",
      "Cost  73 31.039143323345918\n",
      "Cost  74 31.038884950512543\n",
      "Cost  75 31.044840978016747\n",
      "Cost  76 31.045280828801282\n",
      "Cost  77 31.049951526426476\n",
      "Cost  78 31.05079393714051\n",
      "Cost  79 31.054508716880814\n",
      "Cost  80 31.05555998567887\n",
      "Cost  81 31.058554294796767\n",
      "Cost  82 31.059689682530628\n",
      "Cost  83 31.062133261237495\n",
      "Cost  84 31.06327442327057\n",
      "Cost  85 31.065290870276264\n",
      "Cost  86 31.066390453486964\n",
      "Cost  87 31.068070796159912\n",
      "Cost  88 31.069101953364253\n",
      "Cost  89 31.07051408046286\n",
      "Cost  90 31.071463355914346\n",
      "Cost  91 31.072658592857234\n",
      "Cost  92 31.073521115913817\n",
      "Cost  93 31.074538824604236\n",
      "Cost  94 31.07531508086798\n",
      "Cost  95 31.076185892189216\n",
      "Cost  96 31.076879570229362\n",
      "Cost  97 31.077627668162673\n",
      "Cost  98 31.078244238443997\n",
      "Cost  99 31.07888898462025\n"
     ]
    }
   ],
   "source": [
    "data_train = np.loadtxt(\"Train_PP.csv\" , delimiter = \",\")\n",
    "x_train = data_train[:,0:4]\n",
    "y_train = data_train[:,4]\n",
    "learning_rate = 0.000001\n",
    "no_iterations = 100\n",
    "x_train=np.append(x_train,np.ones((len(x_train),1)),axis=1)\n",
    "m = gd(x_train,y_train,learning_rate,no_iterations)\n",
    "x_test = np.loadtxt(\"Test_PP.csv\" , delimiter = \",\")\n",
    "x_test=np.append(x_test,np.ones((len(x_test),1)),axis=1)\n",
    "y_pred=np.dot(x_test,m)\n",
    "np.savetxt(\"Prediction_PP.csv\",y_pred,fmt='%1.5f')"
   ]
  },
  {
   "cell_type": "code",
   "execution_count": null,
   "metadata": {},
   "outputs": [],
   "source": []
  },
  {
   "cell_type": "code",
   "execution_count": null,
   "metadata": {},
   "outputs": [],
   "source": []
  },
  {
   "cell_type": "code",
   "execution_count": null,
   "metadata": {},
   "outputs": [],
   "source": []
  },
  {
   "cell_type": "code",
   "execution_count": null,
   "metadata": {},
   "outputs": [],
   "source": []
  },
  {
   "cell_type": "code",
   "execution_count": null,
   "metadata": {},
   "outputs": [],
   "source": []
  },
  {
   "cell_type": "code",
   "execution_count": null,
   "metadata": {},
   "outputs": [],
   "source": []
  },
  {
   "cell_type": "code",
   "execution_count": null,
   "metadata": {},
   "outputs": [],
   "source": []
  },
  {
   "cell_type": "code",
   "execution_count": null,
   "metadata": {},
   "outputs": [],
   "source": []
  }
 ],
 "metadata": {
  "kernelspec": {
   "display_name": "Python 3",
   "language": "python",
   "name": "python3"
  },
  "language_info": {
   "codemirror_mode": {
    "name": "ipython",
    "version": 3
   },
   "file_extension": ".py",
   "mimetype": "text/x-python",
   "name": "python",
   "nbconvert_exporter": "python",
   "pygments_lexer": "ipython3",
   "version": "3.7.3"
  }
 },
 "nbformat": 4,
 "nbformat_minor": 2
}